{
 "cells": [
  {
   "cell_type": "code",
   "execution_count": 1,
   "metadata": {},
   "outputs": [
    {
     "ename": "AttributeError",
     "evalue": "module 'time' has no attribute 'clock'",
     "output_type": "error",
     "traceback": [
      "\u001b[0;31m---------------------------------------------------------------------------\u001b[0m",
      "\u001b[0;31mAttributeError\u001b[0m                            Traceback (most recent call last)",
      "\u001b[1;32m/Users/ijjjhhhh/Documents/code/sparsegpt_admm/finetune/am.ipynb Cell 1\u001b[0m line \u001b[0;36m4\n\u001b[1;32m     <a href='vscode-notebook-cell:/Users/ijjjhhhh/Documents/code/sparsegpt_admm/finetune/am.ipynb#W0sZmlsZQ%3D%3D?line=39'>40</a>\u001b[0m y \u001b[39m=\u001b[39m []\n\u001b[1;32m     <a href='vscode-notebook-cell:/Users/ijjjhhhh/Documents/code/sparsegpt_admm/finetune/am.ipynb#W0sZmlsZQ%3D%3D?line=40'>41</a>\u001b[0m time1 \u001b[39m=\u001b[39m []\n\u001b[0;32m---> <a href='vscode-notebook-cell:/Users/ijjjhhhh/Documents/code/sparsegpt_admm/finetune/am.ipynb#W0sZmlsZQ%3D%3D?line=41'>42</a>\u001b[0m start \u001b[39m=\u001b[39m time\u001b[39m.\u001b[39;49mclock()\n\u001b[1;32m     <a href='vscode-notebook-cell:/Users/ijjjhhhh/Documents/code/sparsegpt_admm/finetune/am.ipynb#W0sZmlsZQ%3D%3D?line=43'>44</a>\u001b[0m \u001b[39m#==========初始值=============================\u001b[39;00m\n\u001b[1;32m     <a href='vscode-notebook-cell:/Users/ijjjhhhh/Documents/code/sparsegpt_admm/finetune/am.ipynb#W0sZmlsZQ%3D%3D?line=44'>45</a>\u001b[0m z0 \u001b[39m=\u001b[39m np\u001b[39m.\u001b[39mrandom\u001b[39m.\u001b[39mrand(n)\u001b[39m.\u001b[39mreshape((n,\u001b[39m1\u001b[39m))\n",
      "\u001b[0;31mAttributeError\u001b[0m: module 'time' has no attribute 'clock'"
     ]
    }
   ],
   "source": [
    "# -*- coding: utf-8 -*-\n",
    "\"\"\"\n",
    "Created on Sun Jun  3 10:01:54 2018\n",
    "\n",
    "@author: acer\n",
    "\"\"\"\n",
    "# -*- coding: utf-8 -*-\n",
    "\"\"\"\n",
    "Created on Fri May 25 15:57:08 2018\n",
    "\n",
    "@author: acer\n",
    "\"\"\"\n",
    "import numpy as np\n",
    "import scipy as spy\n",
    "from scipy.sparse import csc_matrix\n",
    "import matplotlib.pyplot as plt\n",
    "import time\n",
    "\n",
    "#=======模拟数据======================\n",
    "\n",
    "m = 512\n",
    "n = 1024\n",
    "\n",
    "#稀疏矩阵的产生\n",
    "u= spy.sparse.rand(n,1,density=0.1,format='csc',dtype=None)\n",
    "u1 = u.nonzero()\n",
    "row = u1[0]\n",
    "col = u1[1]\n",
    "data = np.random.randn(int(0.1*n))\n",
    "u = csc_matrix((data, (row, col)), shape=(n,1)).toarray() \n",
    "\n",
    "#其它项\n",
    "a = np.random.randn(512,1024)\n",
    "b = np.dot(a,u)\n",
    "v = 1e-3      #v为题目里面的miu\n",
    "\n",
    "def f(x0):    #目标函数\n",
    "    return 1/2*np.dot((np.dot(a,x0)-b).T,np.dot(a,x0)-b)+v*sum(abs(x0))\n",
    "\n",
    "y = []\n",
    "time1 = []\n",
    "start = time.time()\n",
    "\n",
    "#==========初始值=============================\n",
    "z0 = np.random.rand(n).reshape((n,1))\n",
    "\n",
    "#采用固定步长\n",
    "t = 1/np.max(np.linalg.eigvals(np.dot(a.T,a))).real\n",
    "inv = np.linalg.inv(np.dot(a.T,a)+v*np.eye(n))\n",
    "\n",
    "for i in range(1000):\n",
    "    \n",
    "    \n",
    "    \n",
    "    x0 = np.dot(inv,np.dot(a.T,b)-z0)\n",
    "    \n",
    "    y.append(f(x0))   #注意这里存不再是f(z0)，而应该是f(x0)\n",
    "    \n",
    "    y0 = z0/t - x0\n",
    "    \n",
    "    y0[y0 >= 1/t*v] = y0[y0 >= 1/t*v] - 1/t*v\n",
    "    y0[np.abs(y0) < 1/t*v] = 0\n",
    "    y0[y0 <= -1/t*v] = y0[y0 <= -1/t*v] + 1/t*v\n",
    "    \n",
    "    z1 = z0 + t*(x0 - y0)\n",
    "\n",
    "    z0 = z1\n",
    "    \n",
    "    \n",
    "y = np.array(y).reshape((1000,1))    \n",
    "plt.plot(y)  \n",
    "#    if i % 5 == 0: \n",
    "#       f = 1/2*np.dot((np.dot(a,x0)-b).T,np.dot(a,x0)-b)+v*sum(abs(x0))\n",
    "#      print(f)"
   ]
  },
  {
   "cell_type": "code",
   "execution_count": null,
   "metadata": {},
   "outputs": [],
   "source": []
  }
 ],
 "metadata": {
  "kernelspec": {
   "display_name": "base",
   "language": "python",
   "name": "python3"
  },
  "language_info": {
   "codemirror_mode": {
    "name": "ipython",
    "version": 3
   },
   "file_extension": ".py",
   "mimetype": "text/x-python",
   "name": "python",
   "nbconvert_exporter": "python",
   "pygments_lexer": "ipython3",
   "version": "3.9.16"
  },
  "orig_nbformat": 4
 },
 "nbformat": 4,
 "nbformat_minor": 2
}
